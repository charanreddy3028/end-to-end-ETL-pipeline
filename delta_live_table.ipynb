{
 "cells": [
  {
   "cell_type": "markdown",
   "metadata": {
    "application/vnd.databricks.v1+cell": {
     "cellMetadata": {},
     "inputWidgets": {},
     "nuid": "cf676068-b2c8-4cff-b209-3c8d62e543bb",
     "showTitle": false,
     "tableResultSettingsMap": {},
     "title": ""
    }
   },
   "source": [
    "#DLT Notebook -GOLD LAYER"
   ]
  },
  {
   "cell_type": "code",
   "execution_count": 0,
   "metadata": {
    "application/vnd.databricks.v1+cell": {
     "cellMetadata": {},
     "inputWidgets": {},
     "nuid": "26f870a9-b23b-4256-b30c-b061a9c272bf",
     "showTitle": false,
     "tableResultSettingsMap": {},
     "title": ""
    }
   },
   "outputs": [],
   "source": [
    "looktable_rules ={\n",
    "    'rule1':'show_id is NOT NULL'\n",
    "}"
   ]
  },
  {
   "cell_type": "code",
   "execution_count": 0,
   "metadata": {
    "application/vnd.databricks.v1+cell": {
     "cellMetadata": {},
     "inputWidgets": {},
     "nuid": "ff3893cb-9ad3-41b0-987c-0eb197d757aa",
     "showTitle": false,
     "tableResultSettingsMap": {},
     "title": ""
    }
   },
   "outputs": [],
   "source": [
    "@dlt.table(\n",
    "    name = \"gold_netflix_directors\"\n",
    ")\n",
    "\n",
    "@dlt.expect_all_or_drop(looktable_rules)\n",
    "def myfunc():\n",
    "    df = spark.readStream.format('delta').load('abfss://silver-layer@netflixprojectcharan.dfs.core.windows.net/netflix_directors')\n",
    "    return df"
   ]
  },
  {
   "cell_type": "code",
   "execution_count": 0,
   "metadata": {
    "application/vnd.databricks.v1+cell": {
     "cellMetadata": {},
     "inputWidgets": {},
     "nuid": "cc3b09cf-5cb1-4af5-8c7e-117eedb20135",
     "showTitle": false,
     "tableResultSettingsMap": {},
     "title": ""
    }
   },
   "outputs": [],
   "source": [
    "@dlt.table(\n",
    "    name = \"gold_netflix_cast\"\n",
    ")\n",
    "@dlt.expect_all_or_drop(looktable_rules)\n",
    "def myfunc():\n",
    "    df = spark.readStream.format('delta').load('abfss://silver-layer@netflixprojectcharan.dfs.core.windows.net/netflix_cast')\n",
    "    return df"
   ]
  },
  {
   "cell_type": "code",
   "execution_count": 0,
   "metadata": {
    "application/vnd.databricks.v1+cell": {
     "cellMetadata": {},
     "inputWidgets": {},
     "nuid": "b30de888-eb5a-4cef-a319-a5f7f4df4637",
     "showTitle": false,
     "tableResultSettingsMap": {},
     "title": ""
    }
   },
   "outputs": [],
   "source": [
    "@dlt.table(\n",
    "    name = \"gold_netflix_category\"\n",
    ")\n",
    "@dlt.expect_all_or_drop(looktable_rules)\n",
    "def myfunc():\n",
    "    df = spark.read.readStream.format('delta').load('abfss://silver-layer@netflixprojectcharan.dfs.core.windows.net/netflix_category')\n",
    "    return df"
   ]
  },
  {
   "cell_type": "code",
   "execution_count": 0,
   "metadata": {
    "application/vnd.databricks.v1+cell": {
     "cellMetadata": {},
     "inputWidgets": {},
     "nuid": "ed75762e-3416-4787-b2f6-18450c3080b2",
     "showTitle": false,
     "tableResultSettingsMap": {},
     "title": ""
    }
   },
   "outputs": [],
   "source": [
    "@dlt.table(\n",
    "    name = \"gold_netflix_countries\"\n",
    ")\n",
    "@dlt.expect_all_or_drop(looktable_rules)\n",
    "def myfunc():\n",
    "    df = spark.readStream.format('delta').load('abfss://silver-layer@netflixprojectcharan.dfs.core.windows.net/netflix_countries')\n",
    "    return df"
   ]
  },
  {
   "cell_type": "code",
   "execution_count": 0,
   "metadata": {
    "application/vnd.databricks.v1+cell": {
     "cellMetadata": {},
     "inputWidgets": {},
     "nuid": "f179c1db-f4fd-4bc6-b28f-21a35a0321c2",
     "showTitle": false,
     "tableResultSettingsMap": {},
     "title": ""
    }
   },
   "outputs": [],
   "source": [
    "@dlt.table\n",
    "# @dlt.expect_all_or_drop(looktable_rules)\n",
    "def gold_stg_netflix_titles():\n",
    "    df = spark.readStream.format('delta').load('abfss://silver-layer@netflixprojectcharan.dfs.core.windows.net/netflix_titles')\n",
    "    return df"
   ]
  },
  {
   "cell_type": "code",
   "execution_count": 0,
   "metadata": {
    "application/vnd.databricks.v1+cell": {
     "cellMetadata": {},
     "inputWidgets": {},
     "nuid": "718c9da8-cbd5-406f-b4d1-784d0c47307b",
     "showTitle": false,
     "tableResultSettingsMap": {},
     "title": ""
    }
   },
   "outputs": [],
   "source": [
    "from pyspark.sql.functions import *"
   ]
  },
  {
   "cell_type": "code",
   "execution_count": 0,
   "metadata": {
    "application/vnd.databricks.v1+cell": {
     "cellMetadata": {},
     "inputWidgets": {},
     "nuid": "e56b6e9b-f144-4f05-a9e9-5cd5df19e7b2",
     "showTitle": false,
     "tableResultSettingsMap": {},
     "title": ""
    }
   },
   "outputs": [],
   "source": [
    "@dlt.view\n",
    "\n",
    "def gold_transform_netflix_titles():\n",
    "    df = spark.readSteam.table('LIVE.gold_stg_netflix_titles')\n",
    "\n",
    "    df = df.withColumn('new_flags',lit(1))\n",
    "    return df"
   ]
  },
  {
   "cell_type": "code",
   "execution_count": 0,
   "metadata": {
    "application/vnd.databricks.v1+cell": {
     "cellMetadata": {},
     "inputWidgets": {},
     "nuid": "ef8964cb-2b59-4233-8842-bb05f55ddcec",
     "showTitle": false,
     "tableResultSettingsMap": {},
     "title": ""
    }
   },
   "outputs": [],
   "source": [
    "master_data_rules ={\n",
    "    'rule1':'new_flags is NOT NULL',\n",
    "    'rule2':'show_id is NOT NULL'\n",
    "}"
   ]
  },
  {
   "cell_type": "code",
   "execution_count": 0,
   "metadata": {
    "application/vnd.databricks.v1+cell": {
     "cellMetadata": {},
     "inputWidgets": {},
     "nuid": "0fb6e543-3d44-453c-b6b7-5cf675c2cf8b",
     "showTitle": false,
     "tableResultSettingsMap": {},
     "title": ""
    }
   },
   "outputs": [],
   "source": [
    "@dlt.table\n",
    "\n",
    "@dlt.expect_all_or_drop(master_data_rules)\n",
    "\n",
    "def gold_netflix_titles():\n",
    "    df = spark.readStream.table('LIVE.gold_transform_netflix_titles')\n",
    "    return df"
   ]
  }
 ],
 "metadata": {
  "application/vnd.databricks.v1+notebook": {
   "computePreferences": null,
   "dashboards": [],
   "environmentMetadata": {
    "base_environment": "",
    "environment_version": "3"
   },
   "inputWidgetPreferences": null,
   "language": "python",
   "notebookMetadata": {
    "pythonIndentUnit": 4
   },
   "notebookName": "delta_live_table",
   "widgets": {}
  },
  "language_info": {
   "name": "python"
  }
 },
 "nbformat": 4,
 "nbformat_minor": 0
}
